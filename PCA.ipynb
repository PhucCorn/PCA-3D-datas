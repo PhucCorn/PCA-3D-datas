{
  "nbformat": 4,
  "nbformat_minor": 0,
  "metadata": {
    "colab": {
      "provenance": []
    },
    "kernelspec": {
      "name": "python3",
      "display_name": "Python 3"
    },
    "language_info": {
      "name": "python"
    }
  },
  "cells": [
    {
      "cell_type": "code",
      "execution_count": null,
      "metadata": {
        "id": "Sx-DsQwx77b3"
      },
      "outputs": [],
      "source": [
        "import numpy as np"
      ]
    },
    {
      "cell_type": "code",
      "source": [
        "input = \"\"\"(1, 1, 1), (1, 2, 1), (1, 3, 1), (2, 1, 1), (2, 2, 1), (2, 3, 1), (2, 3.5, 1), (2.5, 2, 1), (3.5, 1, 1), (3.5, 2, 1), (3.5, 3, 2), (3.5, 4, 2), (4.5, 1, 2), (4.5, 2, 2), (4.5, 3, 2), (5, 4, 2), (5, 5, 2), (6, 3, 2), (6, 4, 2), (6, 5, 2)\"\"\"\n",
        "arr = input[1:-1].split(\"), (\")\n",
        "D = 3\n",
        "N = len(arr)\n",
        "X = np.zeros((D, N))\n",
        "count = 0\n",
        "for i in arr:\n",
        "  ip = i.split(', ')\n",
        "  X[:,count] = np.array([float(ip[0]),float(ip[1]),float(ip[2])])\n",
        "  count += 1\n",
        "\n",
        "print(X)"
      ],
      "metadata": {
        "colab": {
          "base_uri": "https://localhost:8080/"
        },
        "id": "aYmoN_-3HS6q",
        "outputId": "7c4d70c5-6109-4559-9245-7aec19b990ba"
      },
      "execution_count": null,
      "outputs": [
        {
          "output_type": "stream",
          "name": "stdout",
          "text": [
            "[[1.  1.  1.  2.  2.  2.  2.  2.5 3.5 3.5 3.5 3.5 4.5 4.5 4.5 5.  5.  6.\n",
            "  6.  6. ]\n",
            " [1.  2.  3.  1.  2.  3.  3.5 2.  1.  2.  3.  4.  1.  2.  3.  4.  5.  3.\n",
            "  4.  5. ]\n",
            " [1.  1.  1.  1.  1.  1.  1.  1.  1.  1.  2.  2.  2.  2.  2.  2.  2.  2.\n",
            "  2.  2. ]]\n"
          ]
        }
      ]
    },
    {
      "cell_type": "markdown",
      "source": [
        "class sklearn.decomposition.PCA(n_components=None, *, copy=True, whiten=False, svd_solver='auto', tol=0.0, iterated_power='auto', n_oversamples=10, power_iteration_normalizer='auto', random_state=None)"
      ],
      "metadata": {
        "id": "MFMY-Gx9ITHf"
      }
    },
    {
      "cell_type": "code",
      "source": [
        "from sklearn.decomposition import PCA\n",
        "pca = PCA(n_components=1) \n",
        "pca.fit(X.T)"
      ],
      "metadata": {
        "colab": {
          "base_uri": "https://localhost:8080/",
          "height": 74
        },
        "id": "x3hwtTQzMp3T",
        "outputId": "86fbcff4-df3c-4cbe-cbe6-19b2e084069e"
      },
      "execution_count": null,
      "outputs": [
        {
          "output_type": "execute_result",
          "data": {
            "text/plain": [
              "PCA(n_components=1)"
            ],
            "text/html": [
              "<style>#sk-container-id-6 {color: black;background-color: white;}#sk-container-id-6 pre{padding: 0;}#sk-container-id-6 div.sk-toggleable {background-color: white;}#sk-container-id-6 label.sk-toggleable__label {cursor: pointer;display: block;width: 100%;margin-bottom: 0;padding: 0.3em;box-sizing: border-box;text-align: center;}#sk-container-id-6 label.sk-toggleable__label-arrow:before {content: \"▸\";float: left;margin-right: 0.25em;color: #696969;}#sk-container-id-6 label.sk-toggleable__label-arrow:hover:before {color: black;}#sk-container-id-6 div.sk-estimator:hover label.sk-toggleable__label-arrow:before {color: black;}#sk-container-id-6 div.sk-toggleable__content {max-height: 0;max-width: 0;overflow: hidden;text-align: left;background-color: #f0f8ff;}#sk-container-id-6 div.sk-toggleable__content pre {margin: 0.2em;color: black;border-radius: 0.25em;background-color: #f0f8ff;}#sk-container-id-6 input.sk-toggleable__control:checked~div.sk-toggleable__content {max-height: 200px;max-width: 100%;overflow: auto;}#sk-container-id-6 input.sk-toggleable__control:checked~label.sk-toggleable__label-arrow:before {content: \"▾\";}#sk-container-id-6 div.sk-estimator input.sk-toggleable__control:checked~label.sk-toggleable__label {background-color: #d4ebff;}#sk-container-id-6 div.sk-label input.sk-toggleable__control:checked~label.sk-toggleable__label {background-color: #d4ebff;}#sk-container-id-6 input.sk-hidden--visually {border: 0;clip: rect(1px 1px 1px 1px);clip: rect(1px, 1px, 1px, 1px);height: 1px;margin: -1px;overflow: hidden;padding: 0;position: absolute;width: 1px;}#sk-container-id-6 div.sk-estimator {font-family: monospace;background-color: #f0f8ff;border: 1px dotted black;border-radius: 0.25em;box-sizing: border-box;margin-bottom: 0.5em;}#sk-container-id-6 div.sk-estimator:hover {background-color: #d4ebff;}#sk-container-id-6 div.sk-parallel-item::after {content: \"\";width: 100%;border-bottom: 1px solid gray;flex-grow: 1;}#sk-container-id-6 div.sk-label:hover label.sk-toggleable__label {background-color: #d4ebff;}#sk-container-id-6 div.sk-serial::before {content: \"\";position: absolute;border-left: 1px solid gray;box-sizing: border-box;top: 0;bottom: 0;left: 50%;z-index: 0;}#sk-container-id-6 div.sk-serial {display: flex;flex-direction: column;align-items: center;background-color: white;padding-right: 0.2em;padding-left: 0.2em;position: relative;}#sk-container-id-6 div.sk-item {position: relative;z-index: 1;}#sk-container-id-6 div.sk-parallel {display: flex;align-items: stretch;justify-content: center;background-color: white;position: relative;}#sk-container-id-6 div.sk-item::before, #sk-container-id-6 div.sk-parallel-item::before {content: \"\";position: absolute;border-left: 1px solid gray;box-sizing: border-box;top: 0;bottom: 0;left: 50%;z-index: -1;}#sk-container-id-6 div.sk-parallel-item {display: flex;flex-direction: column;z-index: 1;position: relative;background-color: white;}#sk-container-id-6 div.sk-parallel-item:first-child::after {align-self: flex-end;width: 50%;}#sk-container-id-6 div.sk-parallel-item:last-child::after {align-self: flex-start;width: 50%;}#sk-container-id-6 div.sk-parallel-item:only-child::after {width: 0;}#sk-container-id-6 div.sk-dashed-wrapped {border: 1px dashed gray;margin: 0 0.4em 0.5em 0.4em;box-sizing: border-box;padding-bottom: 0.4em;background-color: white;}#sk-container-id-6 div.sk-label label {font-family: monospace;font-weight: bold;display: inline-block;line-height: 1.2em;}#sk-container-id-6 div.sk-label-container {text-align: center;}#sk-container-id-6 div.sk-container {/* jupyter's `normalize.less` sets `[hidden] { display: none; }` but bootstrap.min.css set `[hidden] { display: none !important; }` so we also need the `!important` here to be able to override the default hidden behavior on the sphinx rendered scikit-learn.org. See: https://github.com/scikit-learn/scikit-learn/issues/21755 */display: inline-block !important;position: relative;}#sk-container-id-6 div.sk-text-repr-fallback {display: none;}</style><div id=\"sk-container-id-6\" class=\"sk-top-container\"><div class=\"sk-text-repr-fallback\"><pre>PCA(n_components=1)</pre><b>In a Jupyter environment, please rerun this cell to show the HTML representation or trust the notebook. <br />On GitHub, the HTML representation is unable to render, please try loading this page with nbviewer.org.</b></div><div class=\"sk-container\" hidden><div class=\"sk-item\"><div class=\"sk-estimator sk-toggleable\"><input class=\"sk-toggleable__control sk-hidden--visually\" id=\"sk-estimator-id-6\" type=\"checkbox\" checked><label for=\"sk-estimator-id-6\" class=\"sk-toggleable__label sk-toggleable__label-arrow\">PCA</label><div class=\"sk-toggleable__content\"><pre>PCA(n_components=1)</pre></div></div></div></div></div>"
            ]
          },
          "metadata": {},
          "execution_count": 53
        }
      ]
    },
    {
      "cell_type": "code",
      "source": [
        "e = pca.components_.T\n",
        "print(e)"
      ],
      "metadata": {
        "colab": {
          "base_uri": "https://localhost:8080/"
        },
        "id": "R3wiLX_HNvdN",
        "outputId": "256b94cc-49c9-4b40-8922-27aad8b17a03"
      },
      "execution_count": null,
      "outputs": [
        {
          "output_type": "stream",
          "name": "stdout",
          "text": [
            "[[0.84538719]\n",
            " [0.48227763]\n",
            " [0.22962751]]\n"
          ]
        }
      ]
    },
    {
      "cell_type": "code",
      "source": [
        "D,K = e.shape"
      ],
      "metadata": {
        "id": "lULWs_8J79Th"
      },
      "execution_count": null,
      "outputs": []
    },
    {
      "cell_type": "code",
      "source": [
        "before = np.zeros((D, N))\n",
        "after = np.zeros((K,N))\n",
        "cnt = 0\n",
        "for i in range(N):\n",
        "  x = X[:,i].reshape(D,1) - pca.mean_.reshape(D,1)\n",
        "  #y là giá trị các mẫu sau khi chuyển đổi hệ cơ sở\n",
        "  y = e.T.dot(x)\n",
        "  after[:,cnt] = y.reshape(1,K)\n",
        "  #Chuyển lại về hệ cơ sở cũ để kiểm tra\n",
        "  x = e.dot(y) + pca.mean_.reshape(D,1)\n",
        "  before[:,cnt] = x.reshape(1,D)\n",
        "  cnt += 1\n",
        "print('after')\n",
        "print(after)\n",
        "print('before')\n",
        "print(before)"
      ],
      "metadata": {
        "colab": {
          "base_uri": "https://localhost:8080/"
        },
        "id": "qGAdimtX1vAI",
        "outputId": "7243117c-82da-485c-aca5-9941fe764f39"
      },
      "execution_count": null,
      "outputs": [
        {
          "output_type": "stream",
          "name": "stdout",
          "text": [
            "after\n",
            "[[-3.01794127 -2.53566365 -2.05338602 -2.17255408 -1.69027646 -1.20799883\n",
            "  -0.96686002 -1.26758286 -0.9044733  -0.42219567  0.28970946  0.77198709\n",
            "   0.1705414   0.65281902  1.13509665  2.04006787  2.5223455   2.40317743\n",
            "   2.88545506  3.36773268]]\n",
            "before\n",
            "[[0.89867111 1.30638244 1.71409377 1.61335061 2.02106194 2.42877326\n",
            "  2.63262893 2.37840169 2.68536986 3.09308119 3.69491667 4.10262799\n",
            "  3.59417351 4.00188484 4.40959617 5.17464724 5.58235857 5.48161541\n",
            "  5.88932674 6.29703807]\n",
            " [1.26951445 1.50210616 1.73469787 1.67722577 1.90981748 2.14240919\n",
            "  2.25870505 2.11367315 2.28879276 2.52138447 2.86472039 3.0973121\n",
            "  2.8072483  3.03984001 3.27243172 3.70887909 3.9414708  3.88399871\n",
            "  4.11659042 4.34918212]\n",
            " [0.80699766 0.91774187 1.02848608 1.00112182 1.11186603 1.22261024\n",
            "  1.27798234 1.2089281  1.29230805 1.40305226 1.56652526 1.67726947\n",
            "  1.539161   1.64990521 1.76064942 1.9684557  2.07919991 2.05183565\n",
            "  2.16257986 2.27332407]]\n"
          ]
        }
      ]
    },
    {
      "cell_type": "code",
      "source": [
        "after_pca = pca.transform(X.T)\n",
        "print(after_pca.T)"
      ],
      "metadata": {
        "colab": {
          "base_uri": "https://localhost:8080/"
        },
        "id": "d4OnL17YJyAl",
        "outputId": "968415f0-71d6-4273-c1ed-6881f3999768"
      },
      "execution_count": null,
      "outputs": [
        {
          "output_type": "stream",
          "name": "stdout",
          "text": [
            "[[-3.01794127 -2.53566365 -2.05338602 -2.17255408 -1.69027646 -1.20799883\n",
            "  -0.96686002 -1.26758286 -0.9044733  -0.42219567  0.28970946  0.77198709\n",
            "   0.1705414   0.65281902  1.13509665  2.04006787  2.5223455   2.40317743\n",
            "   2.88545506  3.36773268]]\n"
          ]
        }
      ]
    },
    {
      "cell_type": "code",
      "source": [
        "inverse = pca.inverse_transform(after.T)\n",
        "print(inverse.T)"
      ],
      "metadata": {
        "colab": {
          "base_uri": "https://localhost:8080/"
        },
        "id": "udO4hMDw7oHZ",
        "outputId": "cbb5f588-5f00-4cae-bdbe-e6fb315d03c5"
      },
      "execution_count": null,
      "outputs": [
        {
          "output_type": "stream",
          "name": "stdout",
          "text": [
            "[[0.89867111 1.30638244 1.71409377 1.61335061 2.02106194 2.42877326\n",
            "  2.63262893 2.37840169 2.68536986 3.09308119 3.69491667 4.10262799\n",
            "  3.59417351 4.00188484 4.40959617 5.17464724 5.58235857 5.48161541\n",
            "  5.88932674 6.29703807]\n",
            " [1.26951445 1.50210616 1.73469787 1.67722577 1.90981748 2.14240919\n",
            "  2.25870505 2.11367315 2.28879276 2.52138447 2.86472039 3.0973121\n",
            "  2.8072483  3.03984001 3.27243172 3.70887909 3.9414708  3.88399871\n",
            "  4.11659042 4.34918212]\n",
            " [0.80699766 0.91774187 1.02848608 1.00112182 1.11186603 1.22261024\n",
            "  1.27798234 1.2089281  1.29230805 1.40305226 1.56652526 1.67726947\n",
            "  1.539161   1.64990521 1.76064942 1.9684557  2.07919991 2.05183565\n",
            "  2.16257986 2.27332407]]\n"
          ]
        }
      ]
    },
    {
      "cell_type": "code",
      "source": [
        "import matplotlib.pyplot as plt\n",
        "x = np.arange(1, D+1)\n",
        "y = pca.explained_variance_ratio_\n",
        "sum = pca.explained_variance_ratio_[0] + pca.explained_variance_ratio_[1] + pca.explained_variance_ratio_[2]\n",
        "_y = [pca.explained_variance_ratio_[0]/sum,(pca.explained_variance_ratio_[0]+pca.explained_variance_ratio_[1])/sum,1]\n",
        "plt.plot(x,_y,color = 'orange')\n",
        "plt.bar(x, y)\n",
        "plt.show()"
      ],
      "metadata": {
        "colab": {
          "base_uri": "https://localhost:8080/",
          "height": 430
        },
        "id": "9v0yJgvosT0k",
        "outputId": "b9c03fe6-0fa2-41ea-ffef-4eb8a17e4b0b"
      },
      "execution_count": null,
      "outputs": [
        {
          "output_type": "display_data",
          "data": {
            "text/plain": [
              "<Figure size 640x480 with 1 Axes>"
            ],
            "image/png": "[encoded data removed]"
          },
          "metadata": {}
        }
      ]
    },
    {
      "cell_type": "code",
      "source": [
        "print(pca.components_)\n",
        "print(pca.explained_variance_)\n",
        "print(pca.explained_variance_ratio_)\n",
        "print(pca.singular_values_)"
      ],
      "metadata": {
        "colab": {
          "base_uri": "https://localhost:8080/"
        },
        "id": "rwpca9QftWM-",
        "outputId": "ccbf62bd-40d8-4192-9982-f82711d9b2ae"
      },
      "execution_count": null,
      "outputs": [
        {
          "output_type": "stream",
          "name": "stdout",
          "text": [
            "[[ 0.84538719  0.48227763  0.22962751]\n",
            " [ 0.48186085 -0.87406776  0.06177108]\n",
            " [-0.23050081 -0.05842803  0.9713164 ]]\n",
            "[3.7220307  0.98406629 0.06692932]\n",
            "[0.77980519 0.2061724  0.01402241]\n",
            "[8.40943419 4.32403279 1.12767776]\n"
          ]
        }
      ]
    }
  ]
}