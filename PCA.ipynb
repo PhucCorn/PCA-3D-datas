{
  "nbformat": 4,
  "nbformat_minor": 0,
  "metadata": {
    "colab": {
      "provenance": []
    },
    "kernelspec": {
      "name": "python3",
      "display_name": "Python 3"
    },
    "language_info": {
      "name": "python"
    }
  },
  "cells": [
    {
      "cell_type": "code",
      "execution_count": 37,
      "metadata": {
        "id": "Sx-DsQwx77b3"
      },
      "outputs": [],
      "source": [
        "import numpy as np"
      ]
    },
    {
      "cell_type": "code",
      "source": [
        "input = \"\"\"(1, 1, 1), (1, 2, 1), (1, 3, 1), (2, 1, 1), (2, 2, 1), (2, 3, 1), (2, 3.5, 1), (2.5, 2, 1), (3.5, 1, 1), (3.5, 2, 1), (3.5, 3, 2), (3.5, 4, 2), (4.5, 1, 2), (4.5, 2, 2), (4.5, 3, 2), (5, 4, 2), (5, 5, 2), (6, 3, 2), (6, 4, 2), (6, 5, 2)\"\"\"\n",
        "arr = input[1:-1].split(\"), (\")\n",
        "D = 3\n",
        "N = len(arr)\n",
        "X = np.zeros((D, N))\n",
        "count = 0\n",
        "for i in arr:\n",
        "  ip = i.split(', ')\n",
        "  X[:,count] = np.array([float(ip[0]),float(ip[1]),float(ip[2])])\n",
        "  count += 1\n",
        "\n",
        "print(X)\n",
        "print(count)"
      ],
      "metadata": {
        "colab": {
          "base_uri": "https://localhost:8080/"
        },
        "id": "aYmoN_-3HS6q",
        "outputId": "94a3546f-f211-49fa-cad3-b38c850e6625"
      },
      "execution_count": 38,
      "outputs": [
        {
          "output_type": "stream",
          "name": "stdout",
          "text": [
            "[[1.  1.  1.  2.  2.  2.  2.  2.5 3.5 3.5 3.5 3.5 4.5 4.5 4.5 5.  5.  6.\n",
            "  6.  6. ]\n",
            " [1.  2.  3.  1.  2.  3.  3.5 2.  1.  2.  3.  4.  1.  2.  3.  4.  5.  3.\n",
            "  4.  5. ]\n",
            " [1.  1.  1.  1.  1.  1.  1.  1.  1.  1.  2.  2.  2.  2.  2.  2.  2.  2.\n",
            "  2.  2. ]]\n",
            "20\n"
          ]
        }
      ]
    },
    {
      "cell_type": "markdown",
      "source": [
        "class sklearn.decomposition.PCA(n_components=None, *, copy=True, whiten=False, svd_solver='auto', tol=0.0, iterated_power='auto', n_oversamples=10, power_iteration_normalizer='auto', random_state=None)"
      ],
      "metadata": {
        "id": "MFMY-Gx9ITHf"
      }
    },
    {
      "cell_type": "code",
      "source": [
        "label = np.array(X[2,:])\n",
        "_X = np.delete(X, 1, 0)\n",
        "print(_X)"
      ],
      "metadata": {
        "colab": {
          "base_uri": "https://localhost:8080/"
        },
        "id": "T7vDdHkyF4Pv",
        "outputId": "9e29a6a9-99d8-4a0a-a3fc-0c742d725f6b"
      },
      "execution_count": 39,
      "outputs": [
        {
          "output_type": "stream",
          "name": "stdout",
          "text": [
            "[[1.  1.  1.  2.  2.  2.  2.  2.5 3.5 3.5 3.5 3.5 4.5 4.5 4.5 5.  5.  6.\n",
            "  6.  6. ]\n",
            " [1.  1.  1.  1.  1.  1.  1.  1.  1.  1.  2.  2.  2.  2.  2.  2.  2.  2.\n",
            "  2.  2. ]]\n"
          ]
        }
      ]
    },
    {
      "cell_type": "code",
      "source": [
        "pca = PCA(n_components=2) \n",
        "pca.fit(_X.T)"
      ],
      "metadata": {
        "colab": {
          "base_uri": "https://localhost:8080/",
          "height": 74
        },
        "id": "c_mYK9cXGqok",
        "outputId": "d5258866-dd64-42d6-ff50-12fccead2798"
      },
      "execution_count": 40,
      "outputs": [
        {
          "output_type": "execute_result",
          "data": {
            "text/plain": [
              "PCA(n_components=2)"
            ],
            "text/html": [
              "<style>#sk-container-id-4 {color: black;background-color: white;}#sk-container-id-4 pre{padding: 0;}#sk-container-id-4 div.sk-toggleable {background-color: white;}#sk-container-id-4 label.sk-toggleable__label {cursor: pointer;display: block;width: 100%;margin-bottom: 0;padding: 0.3em;box-sizing: border-box;text-align: center;}#sk-container-id-4 label.sk-toggleable__label-arrow:before {content: \"▸\";float: left;margin-right: 0.25em;color: #696969;}#sk-container-id-4 label.sk-toggleable__label-arrow:hover:before {color: black;}#sk-container-id-4 div.sk-estimator:hover label.sk-toggleable__label-arrow:before {color: black;}#sk-container-id-4 div.sk-toggleable__content {max-height: 0;max-width: 0;overflow: hidden;text-align: left;background-color: #f0f8ff;}#sk-container-id-4 div.sk-toggleable__content pre {margin: 0.2em;color: black;border-radius: 0.25em;background-color: #f0f8ff;}#sk-container-id-4 input.sk-toggleable__control:checked~div.sk-toggleable__content {max-height: 200px;max-width: 100%;overflow: auto;}#sk-container-id-4 input.sk-toggleable__control:checked~label.sk-toggleable__label-arrow:before {content: \"▾\";}#sk-container-id-4 div.sk-estimator input.sk-toggleable__control:checked~label.sk-toggleable__label {background-color: #d4ebff;}#sk-container-id-4 div.sk-label input.sk-toggleable__control:checked~label.sk-toggleable__label {background-color: #d4ebff;}#sk-container-id-4 input.sk-hidden--visually {border: 0;clip: rect(1px 1px 1px 1px);clip: rect(1px, 1px, 1px, 1px);height: 1px;margin: -1px;overflow: hidden;padding: 0;position: absolute;width: 1px;}#sk-container-id-4 div.sk-estimator {font-family: monospace;background-color: #f0f8ff;border: 1px dotted black;border-radius: 0.25em;box-sizing: border-box;margin-bottom: 0.5em;}#sk-container-id-4 div.sk-estimator:hover {background-color: #d4ebff;}#sk-container-id-4 div.sk-parallel-item::after {content: \"\";width: 100%;border-bottom: 1px solid gray;flex-grow: 1;}#sk-container-id-4 div.sk-label:hover label.sk-toggleable__label {background-color: #d4ebff;}#sk-container-id-4 div.sk-serial::before {content: \"\";position: absolute;border-left: 1px solid gray;box-sizing: border-box;top: 0;bottom: 0;left: 50%;z-index: 0;}#sk-container-id-4 div.sk-serial {display: flex;flex-direction: column;align-items: center;background-color: white;padding-right: 0.2em;padding-left: 0.2em;position: relative;}#sk-container-id-4 div.sk-item {position: relative;z-index: 1;}#sk-container-id-4 div.sk-parallel {display: flex;align-items: stretch;justify-content: center;background-color: white;position: relative;}#sk-container-id-4 div.sk-item::before, #sk-container-id-4 div.sk-parallel-item::before {content: \"\";position: absolute;border-left: 1px solid gray;box-sizing: border-box;top: 0;bottom: 0;left: 50%;z-index: -1;}#sk-container-id-4 div.sk-parallel-item {display: flex;flex-direction: column;z-index: 1;position: relative;background-color: white;}#sk-container-id-4 div.sk-parallel-item:first-child::after {align-self: flex-end;width: 50%;}#sk-container-id-4 div.sk-parallel-item:last-child::after {align-self: flex-start;width: 50%;}#sk-container-id-4 div.sk-parallel-item:only-child::after {width: 0;}#sk-container-id-4 div.sk-dashed-wrapped {border: 1px dashed gray;margin: 0 0.4em 0.5em 0.4em;box-sizing: border-box;padding-bottom: 0.4em;background-color: white;}#sk-container-id-4 div.sk-label label {font-family: monospace;font-weight: bold;display: inline-block;line-height: 1.2em;}#sk-container-id-4 div.sk-label-container {text-align: center;}#sk-container-id-4 div.sk-container {/* jupyter's `normalize.less` sets `[hidden] { display: none; }` but bootstrap.min.css set `[hidden] { display: none !important; }` so we also need the `!important` here to be able to override the default hidden behavior on the sphinx rendered scikit-learn.org. See: https://github.com/scikit-learn/scikit-learn/issues/21755 */display: inline-block !important;position: relative;}#sk-container-id-4 div.sk-text-repr-fallback {display: none;}</style><div id=\"sk-container-id-4\" class=\"sk-top-container\"><div class=\"sk-text-repr-fallback\"><pre>PCA(n_components=2)</pre><b>In a Jupyter environment, please rerun this cell to show the HTML representation or trust the notebook. <br />On GitHub, the HTML representation is unable to render, please try loading this page with nbviewer.org.</b></div><div class=\"sk-container\" hidden><div class=\"sk-item\"><div class=\"sk-estimator sk-toggleable\"><input class=\"sk-toggleable__control sk-hidden--visually\" id=\"sk-estimator-id-4\" type=\"checkbox\" checked><label for=\"sk-estimator-id-4\" class=\"sk-toggleable__label sk-toggleable__label-arrow\">PCA</label><div class=\"sk-toggleable__content\"><pre>PCA(n_components=2)</pre></div></div></div></div></div>"
            ]
          },
          "metadata": {},
          "execution_count": 40
        }
      ]
    },
    {
      "cell_type": "code",
      "source": [
        "#3 vector riêng\n",
        "e = pca.components_.T\n",
        "print(e)"
      ],
      "metadata": {
        "colab": {
          "base_uri": "https://localhost:8080/"
        },
        "id": "CPXdYmWuG4Yh",
        "outputId": "af7fe01a-24d3-4f07-b304-40753b29daa0"
      },
      "execution_count": 41,
      "outputs": [
        {
          "output_type": "stream",
          "name": "stdout",
          "text": [
            "[[ 0.9675478   0.25268807]\n",
            " [ 0.25268807 -0.9675478 ]]\n"
          ]
        }
      ]
    },
    {
      "cell_type": "code",
      "source": [
        "D,K = e.shape"
      ],
      "metadata": {
        "id": "7MUU0BqDHJY2"
      },
      "execution_count": 42,
      "outputs": []
    },
    {
      "cell_type": "code",
      "source": [
        "#Ma trận chứa các điểm dữ liệu sau khi chuyển hệ cơ sở\n",
        "after_pca = pca.transform(_X.T)\n",
        "print(after_pca.T)"
      ],
      "metadata": {
        "colab": {
          "base_uri": "https://localhost:8080/"
        },
        "id": "5lc9KZwQHAr4",
        "outputId": "02584c08-bdf7-456d-dec9-52a287645f66"
      },
      "execution_count": 43,
      "outputs": [
        {
          "output_type": "stream",
          "name": "stdout",
          "text": [
            "[[-2.49683614 -2.49683614 -2.49683614 -1.52928834 -1.52928834 -1.52928834\n",
            "  -1.52928834 -1.04551444 -0.07796664 -0.07796664  0.17472142  0.17472142\n",
            "   1.14226922  1.14226922  1.14226922  1.62604312  1.62604312  2.59359092\n",
            "   2.59359092  2.59359092]\n",
            " [-0.13531187 -0.13531187 -0.13531187  0.1173762   0.1173762   0.1173762\n",
            "   0.1173762   0.24372024  0.4964083   0.4964083  -0.4711395  -0.4711395\n",
            "  -0.21845143 -0.21845143 -0.21845143 -0.0921074  -0.0921074   0.16058067\n",
            "   0.16058067  0.16058067]]\n"
          ]
        }
      ]
    },
    {
      "cell_type": "code",
      "source": [
        "i = np.array(after_pca.T)\n",
        "new = np.append(i,label.reshape(1,20))\n",
        "print(new.reshape(3,20))"
      ],
      "metadata": {
        "colab": {
          "base_uri": "https://localhost:8080/"
        },
        "id": "MxJb92-1I8Fd",
        "outputId": "6b1e31ff-fbdb-4195-a430-e608e83478d3"
      },
      "execution_count": 44,
      "outputs": [
        {
          "output_type": "stream",
          "name": "stdout",
          "text": [
            "[[-2.49683614 -2.49683614 -2.49683614 -1.52928834 -1.52928834 -1.52928834\n",
            "  -1.52928834 -1.04551444 -0.07796664 -0.07796664  0.17472142  0.17472142\n",
            "   1.14226922  1.14226922  1.14226922  1.62604312  1.62604312  2.59359092\n",
            "   2.59359092  2.59359092]\n",
            " [-0.13531187 -0.13531187 -0.13531187  0.1173762   0.1173762   0.1173762\n",
            "   0.1173762   0.24372024  0.4964083   0.4964083  -0.4711395  -0.4711395\n",
            "  -0.21845143 -0.21845143 -0.21845143 -0.0921074  -0.0921074   0.16058067\n",
            "   0.16058067  0.16058067]\n",
            " [ 1.          1.          1.          1.          1.          1.\n",
            "   1.          1.          1.          1.          2.          2.\n",
            "   2.          2.          2.          2.          2.          2.\n",
            "   2.          2.        ]]\n"
          ]
        }
      ]
    },
    {
      "cell_type": "code",
      "source": [
        "#Chuyển ngược về ma trận ban đầu \n",
        "inverse = pca.inverse_transform(after_pca)\n",
        "print(inverse.T)"
      ],
      "metadata": {
        "colab": {
          "base_uri": "https://localhost:8080/"
        },
        "id": "C0hGIjTDHNfU",
        "outputId": "70faf6ad-27c6-496d-fd8a-03cc527846b3"
      },
      "execution_count": 45,
      "outputs": [
        {
          "output_type": "stream",
          "name": "stdout",
          "text": [
            "[[1.  1.  1.  2.  2.  2.  2.  2.5 3.5 3.5 3.5 3.5 4.5 4.5 4.5 5.  5.  6.\n",
            "  6.  6. ]\n",
            " [1.  1.  1.  1.  1.  1.  1.  1.  1.  1.  2.  2.  2.  2.  2.  2.  2.  2.\n",
            "  2.  2. ]]\n"
          ]
        }
      ]
    },
    {
      "cell_type": "code",
      "source": [
        "import matplotlib.pyplot as plt\n",
        "x = np.arange(1, D+1)\n",
        "y = pca.explained_variance_ratio_\n",
        "sum = pca.explained_variance_ratio_[0] + pca.explained_variance_ratio_[1]\n",
        "_y = [pca.explained_variance_ratio_[0]/sum,1]\n",
        "plt.plot(x,_y,color = 'orange')\n",
        "plt.bar(x, y)\n",
        "plt.show()"
      ],
      "metadata": {
        "colab": {
          "base_uri": "https://localhost:8080/",
          "height": 430
        },
        "id": "e1L_3Gj5HUzw",
        "outputId": "4936ba70-c8be-4d00-8d32-f8480a144b10"
      },
      "execution_count": 46,
      "outputs": [
        {
          "output_type": "display_data",
          "data": {
            "text/plain": [
              "<Figure size 640x480 with 1 Axes>"
            ],
            "image/png": "[encoded data removed]"
          },
          "metadata": {}
        }
      ]
    }
  ]
}